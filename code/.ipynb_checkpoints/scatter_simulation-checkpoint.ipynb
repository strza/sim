{
 "cells": [
  {
   "cell_type": "code",
   "execution_count": 3,
   "id": "aaad8e19",
   "metadata": {},
   "outputs": [
    {
     "data": {
      "image/png": "[encoded data removed]",
      "text/plain": [
       "<Figure size 432x288 with 1 Axes>"
      ]
     },
     "metadata": {
      "needs_background": "light"
     },
     "output_type": "display_data"
    }
   ],
   "source": [
    "import random\n",
    "import matplotlib.pyplot as plt\n",
    "from matplotlib.animation import FuncAnimation\n",
    "%matplotlib inline\n",
    "\n",
    "# Set the number of points and the central point\n",
    "num_points = 50\n",
    "central_point = (0.5, 0.5)\n",
    "\n",
    "# Set the size of the square\n",
    "square_size = 1\n",
    "\n",
    "# Initialize the points to random positions near the edges of the square\n",
    "points = []\n",
    "for i in range(num_points):\n",
    "    x = random.uniform(-square_size/2, square_size/2)\n",
    "    y = random.uniform(-square_size/2, square_size/2)\n",
    "    points.append((x, y))\n",
    "\n",
    "# Set the movement speed and the number of steps for the simulation\n",
    "movement_speed = 0.01\n",
    "num_steps = 100\n",
    "\n",
    "# Set up the figure and axes\n",
    "fig, ax = plt.subplots()\n",
    "scatter, = ax.plot([], [], 'bo', markersize=5)\n",
    "\n",
    "# Set the axis limits\n",
    "ax.set_xlim(-square_size/2, square_size/2)\n",
    "ax.set_ylim(-square_size/2, square_size/2)\n",
    "\n",
    "# This function will be called by FuncAnimation to update the plot\n",
    "def update(num):\n",
    "    global points\n",
    "    \n",
    "    # Move each point towards the central point\n",
    "    for j in range(len(points)):\n",
    "        x, y = points[j]\n",
    "        x_diff = central_point[0] - x\n",
    "        y_diff = central_point[1] - y\n",
    "        x += x_diff * movement_speed\n",
    "        y += y_diff * movement_speed\n",
    "        points[j] = (x, y)\n",
    "    \n",
    "    # Remove points that have reached the central point\n",
    "    points = [point for point in points if point != central_point]\n",
    "    \n",
    "    # Add new points to the list\n",
    "    for j in range(num_points - len(points)):\n",
    "        x = random.uniform(-square_size/2, square_size/2)\n",
    "        y = random.uniform(-square_size/2, square_size/2)\n",
    "        points.append((x, y))\n",
    "    \n",
    "    # Update the data for the scatter plot\n",
    "    x_coords, y_coords = zip(*points)\n",
    "    scatter.set_data(x_coords, y_coords)\n",
    "\n",
    "# Create the FuncAnimation object\n",
    "animation = FuncAnimation(fig, update, frames=range(num_steps), interval=50)\n",
    "\n",
    "plt.show()\n"
   ]
  },
  {
   "cell_type": "code",
   "execution_count": null,
   "id": "64ae2504",
   "metadata": {},
   "outputs": [],
   "source": []
  }
 ],
 "metadata": {
  "kernelspec": {
   "display_name": "Python 3 (ipykernel)",
   "language": "python",
   "name": "python3"
  },
  "language_info": {
   "codemirror_mode": {
    "name": "ipython",
    "version": 3
   },
   "file_extension": ".py",
   "mimetype": "text/x-python",
   "name": "python",
   "nbconvert_exporter": "python",
   "pygments_lexer": "ipython3",
   "version": "3.9.7"
  }
 },
 "nbformat": 4,
 "nbformat_minor": 5
}
